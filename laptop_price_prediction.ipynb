{
  "cells": [
    {
      "cell_type": "markdown",
      "metadata": {
        "id": "eYt7bWSpGRbH"
      },
      "source": [
        "# **AIM**: Develop a model that can accurately predict laptop prices based on various features, helping our clients stay competitive in the market.\n",
        "\n",
        "[Dataset:](https://s3.amazonaws.com/grey_campus/production/system/OdinSchool/2023/Edmingle/DataSet/laptop.zip)\n",
        "This dataset comprises information about various laptops, encompassing details such as their manufacturers, types, screen sizes, resolutions, processor configurations, prices etc. It provides a comprehensive overview of the laptop market, allowing for analysis of trends, comparisons between different models, and insights into consumer preferences.\n",
        "\n"
      ]
    },
    {
      "cell_type": "markdown",
      "metadata": {
        "id": "5OxTmN_LKcnQ"
      },
      "source": [
        "## **Data Exploration and Understanding**"
      ]
    },
    {
      "cell_type": "code",
      "execution_count": 1,
      "metadata": {
        "id": "56q_luYCGJ7t"
      },
      "outputs": [],
      "source": [
        "# Importing essential libraries\n",
        "import pandas as pd\n",
        "import numpy as np\n",
        "import seaborn as sns\n",
        "import matplotlib.pyplot as plt\n",
        "from sklearn.preprocessing import LabelEncoder\n",
        "from sklearn.feature_selection import RFE\n",
        "from sklearn.linear_model import LinearRegression\n",
        "from sklearn.model_selection import train_test_split, RandomizedSearchCV\n",
        "from sklearn.metrics import mean_squared_error\n",
        "from sklearn.ensemble import RandomForestRegressor\n",
        "from xgboost import XGBRegressor\n",
        "from scipy.stats import uniform, randint"
      ]
    },
    {
      "cell_type": "code",
      "execution_count": 2,
      "metadata": {
        "id": "oVQVvKkGOmtS"
      },
      "outputs": [],
      "source": [
        "# Importing dataset as df\n",
        "df = pd.read_csv('laptop.csv')"
      ]
    },
    {
      "cell_type": "code",
      "execution_count": null,
      "metadata": {
        "colab": {
          "base_uri": "https://localhost:8080/"
        },
        "id": "WuzwgceiPjIt",
        "outputId": "fa15f953-a42e-459a-9ab4-827da32a01b2"
      },
      "outputs": [
        {
          "data": {
            "text/plain": [
              "(1303, 13)"
            ]
          },
          "execution_count": 3,
          "metadata": {},
          "output_type": "execute_result"
        }
      ],
      "source": [
        "# Shape of dataset\n",
        "df.shape"
      ]
    },
    {
      "cell_type": "code",
      "execution_count": null,
      "metadata": {
        "colab": {
          "base_uri": "https://localhost:8080/"
        },
        "id": "Vh-g-Xx_QF_-",
        "outputId": "26eb9244-fb1a-4f0e-9a48-6ea9de0830eb"
      },
      "outputs": [
        {
          "name": "stdout",
          "output_type": "stream",
          "text": [
            "<class 'pandas.core.frame.DataFrame'>\n",
            "RangeIndex: 1303 entries, 0 to 1302\n",
            "Data columns (total 13 columns):\n",
            " #   Column            Non-Null Count  Dtype  \n",
            "---  ------            --------------  -----  \n",
            " 0   Unnamed: 0.1      1303 non-null   int64  \n",
            " 1   Unnamed: 0        1273 non-null   float64\n",
            " 2   Company           1273 non-null   object \n",
            " 3   TypeName          1273 non-null   object \n",
            " 4   Inches            1273 non-null   object \n",
            " 5   ScreenResolution  1273 non-null   object \n",
            " 6   Cpu               1273 non-null   object \n",
            " 7   Ram               1273 non-null   object \n",
            " 8   Memory            1273 non-null   object \n",
            " 9   Gpu               1273 non-null   object \n",
            " 10  OpSys             1273 non-null   object \n",
            " 11  Weight            1273 non-null   object \n",
            " 12  Price             1273 non-null   float64\n",
            "dtypes: float64(2), int64(1), object(10)\n",
            "memory usage: 132.5+ KB\n"
          ]
        }
      ],
      "source": [
        "# Information about the DataFrame\n",
        "df.info()"
      ]
    },
    {
      "cell_type": "code",
      "execution_count": null,
      "metadata": {
        "colab": {
          "base_uri": "https://localhost:8080/",
          "height": 469
        },
        "id": "8p9WTZFbCAw6",
        "outputId": "5873adcd-97ac-4fd2-88d5-608c1d0c3607"
      },
      "outputs": [
        {
          "data": {
            "application/vnd.google.colaboratory.intrinsic+json": {
              "summary": "{\n  \"name\": \"df\",\n  \"rows\": 1303,\n  \"fields\": [\n    {\n      \"column\": \"Unnamed: 0.1\",\n      \"properties\": {\n        \"dtype\": \"number\",\n        \"std\": 376,\n        \"min\": 0,\n        \"max\": 1302,\n        \"num_unique_values\": 1303,\n        \"samples\": [\n          479,\n          1022,\n          298\n        ],\n        \"semantic_type\": \"\",\n        \"description\": \"\"\n      }\n    },\n    {\n      \"column\": \"Unnamed: 0\",\n      \"properties\": {\n        \"dtype\": \"number\",\n        \"std\": 376.49302715628085,\n        \"min\": 0.0,\n        \"max\": 1302.0,\n        \"num_unique_values\": 1273,\n        \"samples\": [\n          44.0,\n          1188.0,\n          133.0\n        ],\n        \"semantic_type\": \"\",\n        \"description\": \"\"\n      }\n    },\n    {\n      \"column\": \"Company\",\n      \"properties\": {\n        \"dtype\": \"category\",\n        \"num_unique_values\": 19,\n        \"samples\": [\n          \"Apple\",\n          \"Lenovo\",\n          \"Xiaomi\"\n        ],\n        \"semantic_type\": \"\",\n        \"description\": \"\"\n      }\n    },\n    {\n      \"column\": \"TypeName\",\n      \"properties\": {\n        \"dtype\": \"category\",\n        \"num_unique_values\": 6,\n        \"samples\": [\n          \"Ultrabook\",\n          \"Notebook\",\n          \"Netbook\"\n        ],\n        \"semantic_type\": \"\",\n        \"description\": \"\"\n      }\n    },\n    {\n      \"column\": \"Inches\",\n      \"properties\": {\n        \"dtype\": \"category\",\n        \"num_unique_values\": 25,\n        \"samples\": [\n          \"13\",\n          \"24\",\n          \"13.3\"\n        ],\n        \"semantic_type\": \"\",\n        \"description\": \"\"\n      }\n    },\n    {\n      \"column\": \"ScreenResolution\",\n      \"properties\": {\n        \"dtype\": \"category\",\n        \"num_unique_values\": 40,\n        \"samples\": [\n          \"Touchscreen 1366x768\",\n          \"1600x900\",\n          \"4K Ultra HD / Touchscreen 3840x2160\"\n        ],\n        \"semantic_type\": \"\",\n        \"description\": \"\"\n      }\n    },\n    {\n      \"column\": \"Cpu\",\n      \"properties\": {\n        \"dtype\": \"category\",\n        \"num_unique_values\": 118,\n        \"samples\": [\n          \"AMD A12-Series 9720P 2.7GHz\",\n          \"Intel Atom Z8350 1.92GHz\",\n          \"Intel Core i5 3.1GHz\"\n        ],\n        \"semantic_type\": \"\",\n        \"description\": \"\"\n      }\n    },\n    {\n      \"column\": \"Ram\",\n      \"properties\": {\n        \"dtype\": \"category\",\n        \"num_unique_values\": 10,\n        \"samples\": [\n          \"24GB\",\n          \"16GB\",\n          \"64GB\"\n        ],\n        \"semantic_type\": \"\",\n        \"description\": \"\"\n      }\n    },\n    {\n      \"column\": \"Memory\",\n      \"properties\": {\n        \"dtype\": \"category\",\n        \"num_unique_values\": 40,\n        \"samples\": [\n          \"256GB SSD +  500GB HDD\",\n          \"1.0TB Hybrid\",\n          \"64GB SSD\"\n        ],\n        \"semantic_type\": \"\",\n        \"description\": \"\"\n      }\n    },\n    {\n      \"column\": \"Gpu\",\n      \"properties\": {\n        \"dtype\": \"category\",\n        \"num_unique_values\": 110,\n        \"samples\": [\n          \"AMD Radeon R7\",\n          \"AMD Radeon Pro 555\",\n          \"Intel Iris Plus Graphics 650\"\n        ],\n        \"semantic_type\": \"\",\n        \"description\": \"\"\n      }\n    },\n    {\n      \"column\": \"OpSys\",\n      \"properties\": {\n        \"dtype\": \"category\",\n        \"num_unique_values\": 9,\n        \"samples\": [\n          \"Windows 7\",\n          \"No OS\",\n          \"Windows 10 S\"\n        ],\n        \"semantic_type\": \"\",\n        \"description\": \"\"\n      }\n    },\n    {\n      \"column\": \"Weight\",\n      \"properties\": {\n        \"dtype\": \"category\",\n        \"num_unique_values\": 189,\n        \"samples\": [\n          \"2.21kg\",\n          \"3.74kg\",\n          \"1.65kg\"\n        ],\n        \"semantic_type\": \"\",\n        \"description\": \"\"\n      }\n    },\n    {\n      \"column\": \"Price\",\n      \"properties\": {\n        \"dtype\": \"number\",\n        \"std\": 37332.251004569844,\n        \"min\": 9270.72,\n        \"max\": 324954.72,\n        \"num_unique_values\": 777,\n        \"samples\": [\n          68464.8,\n          71341.92,\n          77788.8\n        ],\n        \"semantic_type\": \"\",\n        \"description\": \"\"\n      }\n    }\n  ]\n}",
              "type": "dataframe",
              "variable_name": "df"
            },
            "text/html": [
              "\n",
              "  <div id=\"df-740a68e7-2b68-4b12-936c-19d1961edaaf\" class=\"colab-df-container\">\n",
              "    <div>\n",
              "<style scoped>\n",
              "    .dataframe tbody tr th:only-of-type {\n",
              "        vertical-align: middle;\n",
              "    }\n",
              "\n",
              "    .dataframe tbody tr th {\n",
              "        vertical-align: top;\n",
              "    }\n",
              "\n",
              "    .dataframe thead th {\n",
              "        text-align: right;\n",
              "    }\n",
              "</style>\n",
              "<table border=\"1\" class=\"dataframe\">\n",
              "  <thead>\n",
              "    <tr style=\"text-align: right;\">\n",
              "      <th></th>\n",
              "      <th>Unnamed: 0.1</th>\n",
              "      <th>Unnamed: 0</th>\n",
              "      <th>Company</th>\n",
              "      <th>TypeName</th>\n",
              "      <th>Inches</th>\n",
              "      <th>ScreenResolution</th>\n",
              "      <th>Cpu</th>\n",
              "      <th>Ram</th>\n",
              "      <th>Memory</th>\n",
              "      <th>Gpu</th>\n",
              "      <th>OpSys</th>\n",
              "      <th>Weight</th>\n",
              "      <th>Price</th>\n",
              "    </tr>\n",
              "  </thead>\n",
              "  <tbody>\n",
              "    <tr>\n",
              "      <th>0</th>\n",
              "      <td>0</td>\n",
              "      <td>0.0</td>\n",
              "      <td>Apple</td>\n",
              "      <td>Ultrabook</td>\n",
              "      <td>13.3</td>\n",
              "      <td>IPS Panel Retina Display 2560x1600</td>\n",
              "      <td>Intel Core i5 2.3GHz</td>\n",
              "      <td>8GB</td>\n",
              "      <td>128GB SSD</td>\n",
              "      <td>Intel Iris Plus Graphics 640</td>\n",
              "      <td>macOS</td>\n",
              "      <td>1.37kg</td>\n",
              "      <td>71378.6832</td>\n",
              "    </tr>\n",
              "    <tr>\n",
              "      <th>1</th>\n",
              "      <td>1</td>\n",
              "      <td>1.0</td>\n",
              "      <td>Apple</td>\n",
              "      <td>Ultrabook</td>\n",
              "      <td>13.3</td>\n",
              "      <td>1440x900</td>\n",
              "      <td>Intel Core i5 1.8GHz</td>\n",
              "      <td>8GB</td>\n",
              "      <td>128GB Flash Storage</td>\n",
              "      <td>Intel HD Graphics 6000</td>\n",
              "      <td>macOS</td>\n",
              "      <td>1.34kg</td>\n",
              "      <td>47895.5232</td>\n",
              "    </tr>\n",
              "    <tr>\n",
              "      <th>2</th>\n",
              "      <td>2</td>\n",
              "      <td>2.0</td>\n",
              "      <td>HP</td>\n",
              "      <td>Notebook</td>\n",
              "      <td>15.6</td>\n",
              "      <td>Full HD 1920x1080</td>\n",
              "      <td>Intel Core i5 7200U 2.5GHz</td>\n",
              "      <td>8GB</td>\n",
              "      <td>256GB SSD</td>\n",
              "      <td>Intel HD Graphics 620</td>\n",
              "      <td>No OS</td>\n",
              "      <td>1.86kg</td>\n",
              "      <td>30636.0000</td>\n",
              "    </tr>\n",
              "    <tr>\n",
              "      <th>3</th>\n",
              "      <td>3</td>\n",
              "      <td>3.0</td>\n",
              "      <td>Apple</td>\n",
              "      <td>Ultrabook</td>\n",
              "      <td>15.4</td>\n",
              "      <td>IPS Panel Retina Display 2880x1800</td>\n",
              "      <td>Intel Core i7 2.7GHz</td>\n",
              "      <td>16GB</td>\n",
              "      <td>512GB SSD</td>\n",
              "      <td>AMD Radeon Pro 455</td>\n",
              "      <td>macOS</td>\n",
              "      <td>1.83kg</td>\n",
              "      <td>135195.3360</td>\n",
              "    </tr>\n",
              "    <tr>\n",
              "      <th>4</th>\n",
              "      <td>4</td>\n",
              "      <td>4.0</td>\n",
              "      <td>Apple</td>\n",
              "      <td>Ultrabook</td>\n",
              "      <td>13.3</td>\n",
              "      <td>IPS Panel Retina Display 2560x1600</td>\n",
              "      <td>Intel Core i5 3.1GHz</td>\n",
              "      <td>8GB</td>\n",
              "      <td>256GB SSD</td>\n",
              "      <td>Intel Iris Plus Graphics 650</td>\n",
              "      <td>macOS</td>\n",
              "      <td>1.37kg</td>\n",
              "      <td>96095.8080</td>\n",
              "    </tr>\n",
              "  </tbody>\n",
              "</table>\n",
              "</div>\n",
              "    <div class=\"colab-df-buttons\">\n",
              "\n",
              "  <div class=\"colab-df-container\">\n",
              "    <button class=\"colab-df-convert\" onclick=\"convertToInteractive('df-740a68e7-2b68-4b12-936c-19d1961edaaf')\"\n",
              "            title=\"Convert this dataframe to an interactive table.\"\n",
              "            style=\"display:none;\">\n",
              "\n",
              "  <svg xmlns=\"http://www.w3.org/2000/svg\" height=\"24px\" viewBox=\"0 -960 960 960\">\n",
              "    <path d=\"M120-120v-720h720v720H120Zm60-500h600v-160H180v160Zm220 220h160v-160H400v160Zm0 220h160v-160H400v160ZM180-400h160v-160H180v160Zm440 0h160v-160H620v160ZM180-180h160v-160H180v160Zm440 0h160v-160H620v160Z\"/>\n",
              "  </svg>\n",
              "    </button>\n",
              "\n",
              "  <style>\n",
              "    .colab-df-container {\n",
              "      display:flex;\n",
              "      gap: 12px;\n",
              "    }\n",
              "\n",
              "    .colab-df-convert {\n",
              "      background-color: #E8F0FE;\n",
              "      border: none;\n",
              "      border-radius: 50%;\n",
              "      cursor: pointer;\n",
              "      display: none;\n",
              "      fill: #1967D2;\n",
              "      height: 32px;\n",
              "      padding: 0 0 0 0;\n",
              "      width: 32px;\n",
              "    }\n",
              "\n",
              "    .colab-df-convert:hover {\n",
              "      background-color: #E2EBFA;\n",
              "      box-shadow: 0px 1px 2px rgba(60, 64, 67, 0.3), 0px 1px 3px 1px rgba(60, 64, 67, 0.15);\n",
              "      fill: #174EA6;\n",
              "    }\n",
              "\n",
              "    .colab-df-buttons div {\n",
              "      margin-bottom: 4px;\n",
              "    }\n",
              "\n",
              "    [theme=dark] .colab-df-convert {\n",
              "      background-color: #3B4455;\n",
              "      fill: #D2E3FC;\n",
              "    }\n",
              "\n",
              "    [theme=dark] .colab-df-convert:hover {\n",
              "      background-color: #434B5C;\n",
              "      box-shadow: 0px 1px 3px 1px rgba(0, 0, 0, 0.15);\n",
              "      filter: drop-shadow(0px 1px 2px rgba(0, 0, 0, 0.3));\n",
              "      fill: #FFFFFF;\n",
              "    }\n",
              "  </style>\n",
              "\n",
              "    <script>\n",
              "      const buttonEl =\n",
              "        document.querySelector('#df-740a68e7-2b68-4b12-936c-19d1961edaaf button.colab-df-convert');\n",
              "      buttonEl.style.display =\n",
              "        google.colab.kernel.accessAllowed ? 'block' : 'none';\n",
              "\n",
              "      async function convertToInteractive(key) {\n",
              "        const element = document.querySelector('#df-740a68e7-2b68-4b12-936c-19d1961edaaf');\n",
              "        const dataTable =\n",
              "          await google.colab.kernel.invokeFunction('convertToInteractive',\n",
              "                                                    [key], {});\n",
              "        if (!dataTable) return;\n",
              "\n",
              "        const docLinkHtml = 'Like what you see? Visit the ' +\n",
              "          '<a target=\"_blank\" href=https://colab.research.google.com/notebooks/data_table.ipynb>data table notebook</a>'\n",
              "          + ' to learn more about interactive tables.';\n",
              "        element.innerHTML = '';\n",
              "        dataTable['output_type'] = 'display_data';\n",
              "        await google.colab.output.renderOutput(dataTable, element);\n",
              "        const docLink = document.createElement('div');\n",
              "        docLink.innerHTML = docLinkHtml;\n",
              "        element.appendChild(docLink);\n",
              "      }\n",
              "    </script>\n",
              "  </div>\n",
              "\n",
              "\n",
              "<div id=\"df-dfd9d800-74ad-4074-820a-6dd75abf4a4c\">\n",
              "  <button class=\"colab-df-quickchart\" onclick=\"quickchart('df-dfd9d800-74ad-4074-820a-6dd75abf4a4c')\"\n",
              "            title=\"Suggest charts\"\n",
              "            style=\"display:none;\">\n",
              "\n",
              "<svg xmlns=\"http://www.w3.org/2000/svg\" height=\"24px\"viewBox=\"0 0 24 24\"\n",
              "     width=\"24px\">\n",
              "    <g>\n",
              "        <path d=\"M19 3H5c-1.1 0-2 .9-2 2v14c0 1.1.9 2 2 2h14c1.1 0 2-.9 2-2V5c0-1.1-.9-2-2-2zM9 17H7v-7h2v7zm4 0h-2V7h2v10zm4 0h-2v-4h2v4z\"/>\n",
              "    </g>\n",
              "</svg>\n",
              "  </button>\n",
              "\n",
              "<style>\n",
              "  .colab-df-quickchart {\n",
              "      --bg-color: #E8F0FE;\n",
              "      --fill-color: #1967D2;\n",
              "      --hover-bg-color: #E2EBFA;\n",
              "      --hover-fill-color: #174EA6;\n",
              "      --disabled-fill-color: #AAA;\n",
              "      --disabled-bg-color: #DDD;\n",
              "  }\n",
              "\n",
              "  [theme=dark] .colab-df-quickchart {\n",
              "      --bg-color: #3B4455;\n",
              "      --fill-color: #D2E3FC;\n",
              "      --hover-bg-color: #434B5C;\n",
              "      --hover-fill-color: #FFFFFF;\n",
              "      --disabled-bg-color: #3B4455;\n",
              "      --disabled-fill-color: #666;\n",
              "  }\n",
              "\n",
              "  .colab-df-quickchart {\n",
              "    background-color: var(--bg-color);\n",
              "    border: none;\n",
              "    border-radius: 50%;\n",
              "    cursor: pointer;\n",
              "    display: none;\n",
              "    fill: var(--fill-color);\n",
              "    height: 32px;\n",
              "    padding: 0;\n",
              "    width: 32px;\n",
              "  }\n",
              "\n",
              "  .colab-df-quickchart:hover {\n",
              "    background-color: var(--hover-bg-color);\n",
              "    box-shadow: 0 1px 2px rgba(60, 64, 67, 0.3), 0 1px 3px 1px rgba(60, 64, 67, 0.15);\n",
              "    fill: var(--button-hover-fill-color);\n",
              "  }\n",
              "\n",
              "  .colab-df-quickchart-complete:disabled,\n",
              "  .colab-df-quickchart-complete:disabled:hover {\n",
              "    background-color: var(--disabled-bg-color);\n",
              "    fill: var(--disabled-fill-color);\n",
              "    box-shadow: none;\n",
              "  }\n",
              "\n",
              "  .colab-df-spinner {\n",
              "    border: 2px solid var(--fill-color);\n",
              "    border-color: transparent;\n",
              "    border-bottom-color: var(--fill-color);\n",
              "    animation:\n",
              "      spin 1s steps(1) infinite;\n",
              "  }\n",
              "\n",
              "  @keyframes spin {\n",
              "    0% {\n",
              "      border-color: transparent;\n",
              "      border-bottom-color: var(--fill-color);\n",
              "      border-left-color: var(--fill-color);\n",
              "    }\n",
              "    20% {\n",
              "      border-color: transparent;\n",
              "      border-left-color: var(--fill-color);\n",
              "      border-top-color: var(--fill-color);\n",
              "    }\n",
              "    30% {\n",
              "      border-color: transparent;\n",
              "      border-left-color: var(--fill-color);\n",
              "      border-top-color: var(--fill-color);\n",
              "      border-right-color: var(--fill-color);\n",
              "    }\n",
              "    40% {\n",
              "      border-color: transparent;\n",
              "      border-right-color: var(--fill-color);\n",
              "      border-top-color: var(--fill-color);\n",
              "    }\n",
              "    60% {\n",
              "      border-color: transparent;\n",
              "      border-right-color: var(--fill-color);\n",
              "    }\n",
              "    80% {\n",
              "      border-color: transparent;\n",
              "      border-right-color: var(--fill-color);\n",
              "      border-bottom-color: var(--fill-color);\n",
              "    }\n",
              "    90% {\n",
              "      border-color: transparent;\n",
              "      border-bottom-color: var(--fill-color);\n",
              "    }\n",
              "  }\n",
              "</style>\n",
              "\n",
              "  <script>\n",
              "    async function quickchart(key) {\n",
              "      const quickchartButtonEl =\n",
              "        document.querySelector('#' + key + ' button');\n",
              "      quickchartButtonEl.disabled = true;  // To prevent multiple clicks.\n",
              "      quickchartButtonEl.classList.add('colab-df-spinner');\n",
              "      try {\n",
              "        const charts = await google.colab.kernel.invokeFunction(\n",
              "            'suggestCharts', [key], {});\n",
              "      } catch (error) {\n",
              "        console.error('Error during call to suggestCharts:', error);\n",
              "      }\n",
              "      quickchartButtonEl.classList.remove('colab-df-spinner');\n",
              "      quickchartButtonEl.classList.add('colab-df-quickchart-complete');\n",
              "    }\n",
              "    (() => {\n",
              "      let quickchartButtonEl =\n",
              "        document.querySelector('#df-dfd9d800-74ad-4074-820a-6dd75abf4a4c button');\n",
              "      quickchartButtonEl.style.display =\n",
              "        google.colab.kernel.accessAllowed ? 'block' : 'none';\n",
              "    })();\n",
              "  </script>\n",
              "</div>\n",
              "\n",
              "    </div>\n",
              "  </div>\n"
            ],
            "text/plain": [
              "   Unnamed: 0.1  Unnamed: 0 Company   TypeName Inches  \\\n",
              "0             0         0.0   Apple  Ultrabook   13.3   \n",
              "1             1         1.0   Apple  Ultrabook   13.3   \n",
              "2             2         2.0      HP   Notebook   15.6   \n",
              "3             3         3.0   Apple  Ultrabook   15.4   \n",
              "4             4         4.0   Apple  Ultrabook   13.3   \n",
              "\n",
              "                     ScreenResolution                         Cpu   Ram  \\\n",
              "0  IPS Panel Retina Display 2560x1600        Intel Core i5 2.3GHz   8GB   \n",
              "1                            1440x900        Intel Core i5 1.8GHz   8GB   \n",
              "2                   Full HD 1920x1080  Intel Core i5 7200U 2.5GHz   8GB   \n",
              "3  IPS Panel Retina Display 2880x1800        Intel Core i7 2.7GHz  16GB   \n",
              "4  IPS Panel Retina Display 2560x1600        Intel Core i5 3.1GHz   8GB   \n",
              "\n",
              "                Memory                           Gpu  OpSys  Weight  \\\n",
              "0            128GB SSD  Intel Iris Plus Graphics 640  macOS  1.37kg   \n",
              "1  128GB Flash Storage        Intel HD Graphics 6000  macOS  1.34kg   \n",
              "2            256GB SSD         Intel HD Graphics 620  No OS  1.86kg   \n",
              "3            512GB SSD            AMD Radeon Pro 455  macOS  1.83kg   \n",
              "4            256GB SSD  Intel Iris Plus Graphics 650  macOS  1.37kg   \n",
              "\n",
              "         Price  \n",
              "0   71378.6832  \n",
              "1   47895.5232  \n",
              "2   30636.0000  \n",
              "3  135195.3360  \n",
              "4   96095.8080  "
            ]
          },
          "execution_count": 33,
          "metadata": {},
          "output_type": "execute_result"
        }
      ],
      "source": [
        "# Overview of dataset\n",
        "df.head()"
      ]
    },
    {
      "cell_type": "code",
      "execution_count": null,
      "metadata": {
        "colab": {
          "base_uri": "https://localhost:8080/"
        },
        "id": "xzTQ6qt4RK3W",
        "outputId": "982100bb-3a7a-4863-9e0f-a61fa582ff50"
      },
      "outputs": [
        {
          "data": {
            "text/plain": [
              "Unnamed: 0.1         0\n",
              "Unnamed: 0          30\n",
              "Company             30\n",
              "TypeName            30\n",
              "Inches              30\n",
              "ScreenResolution    30\n",
              "Cpu                 30\n",
              "Ram                 30\n",
              "Memory              30\n",
              "Gpu                 30\n",
              "OpSys               30\n",
              "Weight              30\n",
              "Price               30\n",
              "dtype: int64"
            ]
          },
          "execution_count": 34,
          "metadata": {},
          "output_type": "execute_result"
        }
      ],
      "source": [
        "# Missing value\n",
        "df.isnull().sum()"
      ]
    },
    {
      "cell_type": "code",
      "execution_count": null,
      "metadata": {
        "id": "Be1WaKSRTzLD"
      },
      "outputs": [],
      "source": [
        "# Printing rows with missing value\n",
        "df[df.isnull().any(axis=1)]"
      ]
    },
    {
      "cell_type": "markdown",
      "metadata": {
        "id": "ATgitv9fTUix"
      },
      "source": [
        "The consistent count of 30 missing values across all columns in same rows suggests that these missing values might be related. It's possible that these rows were somehow not properly included during data collection or processing, resulting in missing data across all columns."
      ]
    },
    {
      "cell_type": "code",
      "execution_count": null,
      "metadata": {
        "id": "tPu9rTMLT_SJ"
      },
      "outputs": [],
      "source": [
        "# Outliers\n",
        "# Number of rows required for subplots\n",
        "num_rows = (len(df.columns) + 2) // 3\n",
        "\n",
        "# Iterate over each set of three columns and create subplots\n",
        "for i in range(0, len(df.columns), 3):\n",
        "    columns_subset = df.columns[i:i+3]\n",
        "    plt.figure(figsize=(18, 6))\n",
        "    for j, column in enumerate(columns_subset, 1):\n",
        "        plt.subplot(1, 3, j)\n",
        "        sns.boxplot(data=df[column])\n",
        "        plt.title(f'Box plot for {column}')\n",
        "    plt.tight_layout()\n",
        "    plt.show()"
      ]
    },
    {
      "cell_type": "markdown",
      "metadata": {
        "id": "wYD9auaIS0rz"
      },
      "source": [
        "Except for the 'Weight' column, all other columns have outliers."
      ]
    },
    {
      "cell_type": "code",
      "execution_count": null,
      "metadata": {
        "colab": {
          "base_uri": "https://localhost:8080/"
        },
        "id": "KY7Lb_xhS_PG",
        "outputId": "2d19db7e-f419-4c26-da2e-633ef2f14f00"
      },
      "outputs": [
        {
          "name": "stdout",
          "output_type": "stream",
          "text": [
            "Empty DataFrame\n",
            "Columns: [Unnamed: 0.1, Unnamed: 0, Company, TypeName, Inches, ScreenResolution, Cpu, Ram, Memory, Gpu, OpSys, Weight, Price]\n",
            "Index: []\n"
          ]
        }
      ],
      "source": [
        "# Duplicate rows\n",
        "print(df[df.duplicated()])"
      ]
    },
    {
      "cell_type": "markdown",
      "metadata": {
        "id": "Uc7MeUvdTggx"
      },
      "source": [
        "There are no duplicate rows in dataset."
      ]
    },
    {
      "cell_type": "code",
      "execution_count": null,
      "metadata": {
        "colab": {
          "base_uri": "https://localhost:8080/",
          "height": 300
        },
        "id": "E-Ka_TLyTkl_",
        "outputId": "35edd41f-56bc-40d6-9d1f-9e1d48bf75fc"
      },
      "outputs": [
        {
          "data": {
            "application/vnd.google.colaboratory.intrinsic+json": {
              "summary": "{\n  \"name\": \"df\",\n  \"rows\": 8,\n  \"fields\": [\n    {\n      \"column\": \"Unnamed: 0.1\",\n      \"properties\": {\n        \"dtype\": \"number\",\n        \"std\": 469.38864448041164,\n        \"min\": 0.0,\n        \"max\": 1303.0,\n        \"num_unique_values\": 7,\n        \"samples\": [\n          1303.0,\n          651.0,\n          976.5\n        ],\n        \"semantic_type\": \"\",\n        \"description\": \"\"\n      }\n    },\n    {\n      \"column\": \"Unnamed: 0\",\n      \"properties\": {\n        \"dtype\": \"number\",\n        \"std\": 464.0339983362093,\n        \"min\": 0.0,\n        \"max\": 1302.0,\n        \"num_unique_values\": 8,\n        \"samples\": [\n          652.6747839748625,\n          652.0,\n          1273.0\n        ],\n        \"semantic_type\": \"\",\n        \"description\": \"\"\n      }\n    },\n    {\n      \"column\": \"Price\",\n      \"properties\": {\n        \"dtype\": \"number\",\n        \"std\": 104384.92136149906,\n        \"min\": 1273.0,\n        \"max\": 324954.72,\n        \"num_unique_values\": 8,\n        \"samples\": [\n          59955.81407321288,\n          52161.12,\n          1273.0\n        ],\n        \"semantic_type\": \"\",\n        \"description\": \"\"\n      }\n    }\n  ]\n}",
              "type": "dataframe"
            },
            "text/html": [
              "\n",
              "  <div id=\"df-3e190f96-06f4-4c58-b452-7c5fdd9b2fca\" class=\"colab-df-container\">\n",
              "    <div>\n",
              "<style scoped>\n",
              "    .dataframe tbody tr th:only-of-type {\n",
              "        vertical-align: middle;\n",
              "    }\n",
              "\n",
              "    .dataframe tbody tr th {\n",
              "        vertical-align: top;\n",
              "    }\n",
              "\n",
              "    .dataframe thead th {\n",
              "        text-align: right;\n",
              "    }\n",
              "</style>\n",
              "<table border=\"1\" class=\"dataframe\">\n",
              "  <thead>\n",
              "    <tr style=\"text-align: right;\">\n",
              "      <th></th>\n",
              "      <th>Unnamed: 0.1</th>\n",
              "      <th>Unnamed: 0</th>\n",
              "      <th>Price</th>\n",
              "    </tr>\n",
              "  </thead>\n",
              "  <tbody>\n",
              "    <tr>\n",
              "      <th>count</th>\n",
              "      <td>1303.00000</td>\n",
              "      <td>1273.000000</td>\n",
              "      <td>1273.000000</td>\n",
              "    </tr>\n",
              "    <tr>\n",
              "      <th>mean</th>\n",
              "      <td>651.00000</td>\n",
              "      <td>652.674784</td>\n",
              "      <td>59955.814073</td>\n",
              "    </tr>\n",
              "    <tr>\n",
              "      <th>std</th>\n",
              "      <td>376.28801</td>\n",
              "      <td>376.493027</td>\n",
              "      <td>37332.251005</td>\n",
              "    </tr>\n",
              "    <tr>\n",
              "      <th>min</th>\n",
              "      <td>0.00000</td>\n",
              "      <td>0.000000</td>\n",
              "      <td>9270.720000</td>\n",
              "    </tr>\n",
              "    <tr>\n",
              "      <th>25%</th>\n",
              "      <td>325.50000</td>\n",
              "      <td>327.000000</td>\n",
              "      <td>31914.720000</td>\n",
              "    </tr>\n",
              "    <tr>\n",
              "      <th>50%</th>\n",
              "      <td>651.00000</td>\n",
              "      <td>652.000000</td>\n",
              "      <td>52161.120000</td>\n",
              "    </tr>\n",
              "    <tr>\n",
              "      <th>75%</th>\n",
              "      <td>976.50000</td>\n",
              "      <td>980.000000</td>\n",
              "      <td>79333.387200</td>\n",
              "    </tr>\n",
              "    <tr>\n",
              "      <th>max</th>\n",
              "      <td>1302.00000</td>\n",
              "      <td>1302.000000</td>\n",
              "      <td>324954.720000</td>\n",
              "    </tr>\n",
              "  </tbody>\n",
              "</table>\n",
              "</div>\n",
              "    <div class=\"colab-df-buttons\">\n",
              "\n",
              "  <div class=\"colab-df-container\">\n",
              "    <button class=\"colab-df-convert\" onclick=\"convertToInteractive('df-3e190f96-06f4-4c58-b452-7c5fdd9b2fca')\"\n",
              "            title=\"Convert this dataframe to an interactive table.\"\n",
              "            style=\"display:none;\">\n",
              "\n",
              "  <svg xmlns=\"http://www.w3.org/2000/svg\" height=\"24px\" viewBox=\"0 -960 960 960\">\n",
              "    <path d=\"M120-120v-720h720v720H120Zm60-500h600v-160H180v160Zm220 220h160v-160H400v160Zm0 220h160v-160H400v160ZM180-400h160v-160H180v160Zm440 0h160v-160H620v160ZM180-180h160v-160H180v160Zm440 0h160v-160H620v160Z\"/>\n",
              "  </svg>\n",
              "    </button>\n",
              "\n",
              "  <style>\n",
              "    .colab-df-container {\n",
              "      display:flex;\n",
              "      gap: 12px;\n",
              "    }\n",
              "\n",
              "    .colab-df-convert {\n",
              "      background-color: #E8F0FE;\n",
              "      border: none;\n",
              "      border-radius: 50%;\n",
              "      cursor: pointer;\n",
              "      display: none;\n",
              "      fill: #1967D2;\n",
              "      height: 32px;\n",
              "      padding: 0 0 0 0;\n",
              "      width: 32px;\n",
              "    }\n",
              "\n",
              "    .colab-df-convert:hover {\n",
              "      background-color: #E2EBFA;\n",
              "      box-shadow: 0px 1px 2px rgba(60, 64, 67, 0.3), 0px 1px 3px 1px rgba(60, 64, 67, 0.15);\n",
              "      fill: #174EA6;\n",
              "    }\n",
              "\n",
              "    .colab-df-buttons div {\n",
              "      margin-bottom: 4px;\n",
              "    }\n",
              "\n",
              "    [theme=dark] .colab-df-convert {\n",
              "      background-color: #3B4455;\n",
              "      fill: #D2E3FC;\n",
              "    }\n",
              "\n",
              "    [theme=dark] .colab-df-convert:hover {\n",
              "      background-color: #434B5C;\n",
              "      box-shadow: 0px 1px 3px 1px rgba(0, 0, 0, 0.15);\n",
              "      filter: drop-shadow(0px 1px 2px rgba(0, 0, 0, 0.3));\n",
              "      fill: #FFFFFF;\n",
              "    }\n",
              "  </style>\n",
              "\n",
              "    <script>\n",
              "      const buttonEl =\n",
              "        document.querySelector('#df-3e190f96-06f4-4c58-b452-7c5fdd9b2fca button.colab-df-convert');\n",
              "      buttonEl.style.display =\n",
              "        google.colab.kernel.accessAllowed ? 'block' : 'none';\n",
              "\n",
              "      async function convertToInteractive(key) {\n",
              "        const element = document.querySelector('#df-3e190f96-06f4-4c58-b452-7c5fdd9b2fca');\n",
              "        const dataTable =\n",
              "          await google.colab.kernel.invokeFunction('convertToInteractive',\n",
              "                                                    [key], {});\n",
              "        if (!dataTable) return;\n",
              "\n",
              "        const docLinkHtml = 'Like what you see? Visit the ' +\n",
              "          '<a target=\"_blank\" href=https://colab.research.google.com/notebooks/data_table.ipynb>data table notebook</a>'\n",
              "          + ' to learn more about interactive tables.';\n",
              "        element.innerHTML = '';\n",
              "        dataTable['output_type'] = 'display_data';\n",
              "        await google.colab.output.renderOutput(dataTable, element);\n",
              "        const docLink = document.createElement('div');\n",
              "        docLink.innerHTML = docLinkHtml;\n",
              "        element.appendChild(docLink);\n",
              "      }\n",
              "    </script>\n",
              "  </div>\n",
              "\n",
              "\n",
              "<div id=\"df-041fd11f-6220-4d74-96f5-4d88c891cc05\">\n",
              "  <button class=\"colab-df-quickchart\" onclick=\"quickchart('df-041fd11f-6220-4d74-96f5-4d88c891cc05')\"\n",
              "            title=\"Suggest charts\"\n",
              "            style=\"display:none;\">\n",
              "\n",
              "<svg xmlns=\"http://www.w3.org/2000/svg\" height=\"24px\"viewBox=\"0 0 24 24\"\n",
              "     width=\"24px\">\n",
              "    <g>\n",
              "        <path d=\"M19 3H5c-1.1 0-2 .9-2 2v14c0 1.1.9 2 2 2h14c1.1 0 2-.9 2-2V5c0-1.1-.9-2-2-2zM9 17H7v-7h2v7zm4 0h-2V7h2v10zm4 0h-2v-4h2v4z\"/>\n",
              "    </g>\n",
              "</svg>\n",
              "  </button>\n",
              "\n",
              "<style>\n",
              "  .colab-df-quickchart {\n",
              "      --bg-color: #E8F0FE;\n",
              "      --fill-color: #1967D2;\n",
              "      --hover-bg-color: #E2EBFA;\n",
              "      --hover-fill-color: #174EA6;\n",
              "      --disabled-fill-color: #AAA;\n",
              "      --disabled-bg-color: #DDD;\n",
              "  }\n",
              "\n",
              "  [theme=dark] .colab-df-quickchart {\n",
              "      --bg-color: #3B4455;\n",
              "      --fill-color: #D2E3FC;\n",
              "      --hover-bg-color: #434B5C;\n",
              "      --hover-fill-color: #FFFFFF;\n",
              "      --disabled-bg-color: #3B4455;\n",
              "      --disabled-fill-color: #666;\n",
              "  }\n",
              "\n",
              "  .colab-df-quickchart {\n",
              "    background-color: var(--bg-color);\n",
              "    border: none;\n",
              "    border-radius: 50%;\n",
              "    cursor: pointer;\n",
              "    display: none;\n",
              "    fill: var(--fill-color);\n",
              "    height: 32px;\n",
              "    padding: 0;\n",
              "    width: 32px;\n",
              "  }\n",
              "\n",
              "  .colab-df-quickchart:hover {\n",
              "    background-color: var(--hover-bg-color);\n",
              "    box-shadow: 0 1px 2px rgba(60, 64, 67, 0.3), 0 1px 3px 1px rgba(60, 64, 67, 0.15);\n",
              "    fill: var(--button-hover-fill-color);\n",
              "  }\n",
              "\n",
              "  .colab-df-quickchart-complete:disabled,\n",
              "  .colab-df-quickchart-complete:disabled:hover {\n",
              "    background-color: var(--disabled-bg-color);\n",
              "    fill: var(--disabled-fill-color);\n",
              "    box-shadow: none;\n",
              "  }\n",
              "\n",
              "  .colab-df-spinner {\n",
              "    border: 2px solid var(--fill-color);\n",
              "    border-color: transparent;\n",
              "    border-bottom-color: var(--fill-color);\n",
              "    animation:\n",
              "      spin 1s steps(1) infinite;\n",
              "  }\n",
              "\n",
              "  @keyframes spin {\n",
              "    0% {\n",
              "      border-color: transparent;\n",
              "      border-bottom-color: var(--fill-color);\n",
              "      border-left-color: var(--fill-color);\n",
              "    }\n",
              "    20% {\n",
              "      border-color: transparent;\n",
              "      border-left-color: var(--fill-color);\n",
              "      border-top-color: var(--fill-color);\n",
              "    }\n",
              "    30% {\n",
              "      border-color: transparent;\n",
              "      border-left-color: var(--fill-color);\n",
              "      border-top-color: var(--fill-color);\n",
              "      border-right-color: var(--fill-color);\n",
              "    }\n",
              "    40% {\n",
              "      border-color: transparent;\n",
              "      border-right-color: var(--fill-color);\n",
              "      border-top-color: var(--fill-color);\n",
              "    }\n",
              "    60% {\n",
              "      border-color: transparent;\n",
              "      border-right-color: var(--fill-color);\n",
              "    }\n",
              "    80% {\n",
              "      border-color: transparent;\n",
              "      border-right-color: var(--fill-color);\n",
              "      border-bottom-color: var(--fill-color);\n",
              "    }\n",
              "    90% {\n",
              "      border-color: transparent;\n",
              "      border-bottom-color: var(--fill-color);\n",
              "    }\n",
              "  }\n",
              "</style>\n",
              "\n",
              "  <script>\n",
              "    async function quickchart(key) {\n",
              "      const quickchartButtonEl =\n",
              "        document.querySelector('#' + key + ' button');\n",
              "      quickchartButtonEl.disabled = true;  // To prevent multiple clicks.\n",
              "      quickchartButtonEl.classList.add('colab-df-spinner');\n",
              "      try {\n",
              "        const charts = await google.colab.kernel.invokeFunction(\n",
              "            'suggestCharts', [key], {});\n",
              "      } catch (error) {\n",
              "        console.error('Error during call to suggestCharts:', error);\n",
              "      }\n",
              "      quickchartButtonEl.classList.remove('colab-df-spinner');\n",
              "      quickchartButtonEl.classList.add('colab-df-quickchart-complete');\n",
              "    }\n",
              "    (() => {\n",
              "      let quickchartButtonEl =\n",
              "        document.querySelector('#df-041fd11f-6220-4d74-96f5-4d88c891cc05 button');\n",
              "      quickchartButtonEl.style.display =\n",
              "        google.colab.kernel.accessAllowed ? 'block' : 'none';\n",
              "    })();\n",
              "  </script>\n",
              "</div>\n",
              "\n",
              "    </div>\n",
              "  </div>\n"
            ],
            "text/plain": [
              "       Unnamed: 0.1   Unnamed: 0          Price\n",
              "count    1303.00000  1273.000000    1273.000000\n",
              "mean      651.00000   652.674784   59955.814073\n",
              "std       376.28801   376.493027   37332.251005\n",
              "min         0.00000     0.000000    9270.720000\n",
              "25%       325.50000   327.000000   31914.720000\n",
              "50%       651.00000   652.000000   52161.120000\n",
              "75%       976.50000   980.000000   79333.387200\n",
              "max      1302.00000  1302.000000  324954.720000"
            ]
          },
          "execution_count": 39,
          "metadata": {},
          "output_type": "execute_result"
        }
      ],
      "source": [
        "# Statistical insight\n",
        "df.describe()"
      ]
    },
    {
      "cell_type": "markdown",
      "metadata": {
        "id": "gk8XHyhIU7xy"
      },
      "source": [
        "- Only showing statistics for the 'Price' column because it's the only numerical column in dataframe.\n",
        "\n",
        "- Coulmns 'Unnamed: 0.1' and\t'Unnamed: 0' seems unnessary as they are auto-increment number"
      ]
    },
    {
      "cell_type": "code",
      "execution_count": null,
      "metadata": {
        "colab": {
          "base_uri": "https://localhost:8080/",
          "height": 450
        },
        "id": "PW6KTnfngR4g",
        "outputId": "bd191eac-c349-40ea-a71e-cd5a785302d2"
      },
      "outputs": [
        {
          "data": {
            "image/png": "[encoded data removed]",
            "text/plain": [
              "<Figure size 1200x400 with 1 Axes>"
            ]
          },
          "metadata": {},
          "output_type": "display_data"
        }
      ],
      "source": [
        "# Visualizing company vs price trend\n",
        "\n",
        "plt.figure(figsize=(12, 4))\n",
        "sns.boxplot(data=df, x='Company', y='Price')\n",
        "plt.title('Laptop Prices by Company')\n",
        "plt.xlabel('Company')\n",
        "plt.ylabel('Price')\n",
        "plt.xticks(rotation=45)\n",
        "plt.grid()\n",
        "plt.show()"
      ]
    },
    {
      "cell_type": "code",
      "execution_count": null,
      "metadata": {
        "id": "v_fPgJiAXyIF"
      },
      "outputs": [],
      "source": [
        "# Visualizing trends with other features\n",
        "\n",
        "# Numerical and categorical features\n",
        "numerical_features = ['Inches', 'Ram', 'Weight']\n",
        "categorical_features = ['TypeName', 'ScreenResolution', 'Cpu', 'Memory', 'Gpu', 'OpSys']\n",
        "\n",
        "# Scatter plots for numerical features\n",
        "plt.figure(figsize=(18, 12))\n",
        "for i, feature in enumerate(numerical_features, 1):\n",
        "    plt.subplot(2, len(numerical_features)//2 + 1, i)\n",
        "    sns.scatterplot(data=df, x=feature, y='Price')\n",
        "    plt.title(f'{feature} vs Price')\n",
        "    plt.xlabel(feature)\n",
        "    plt.ylabel('Price')\n",
        "\n",
        "# Box plots for categorical features\n",
        "plt.figure(figsize=(18, 12))\n",
        "for i, feature in enumerate(categorical_features, 1):\n",
        "    plt.subplot(3, len(categorical_features)//3 + 1, i)\n",
        "    sns.boxplot(data=df, x=feature, y='Price')\n",
        "    plt.title(f'{feature} vs Price')\n",
        "    plt.xlabel(feature)\n",
        "    plt.ylabel('Price')\n",
        "    plt.xticks(rotation=45, ha='right')\n",
        "\n",
        "plt.tight_layout()\n",
        "plt.show()"
      ]
    },
    {
      "cell_type": "markdown",
      "metadata": {
        "id": "FZOXqpHza2uf"
      },
      "source": [
        "Conclusion:\n",
        "\n",
        "- **Inches vs Price**: Larger screen sizes tend to correlate with higher laptop prices.\n",
        "- **Ram vs Price**: Higher RAM capacities are generally associated with higher laptop prices.\n",
        "- **Weight vs Price**: While there's a slight negative correlation, lighter laptops may have slightly higher prices.\n",
        "- **TypeName vs Price**: Different laptop types significantly impact prices, with gaming or workstation laptops typically commanding higher prices.\n",
        "- **ScreenResolution vs Price**: Laptops with higher resolutions tend to have higher prices.\n",
        "- **Cpu vs Price**: CPU performance, brand, and technology influence laptop prices, with higher-performance CPUs correlating with higher prices.\n",
        "- **Memory vs Price**: Larger RAM capacities and faster storage technologies contribute to higher laptop prices.\n",
        "- **Gpu vs Price**: Higher-performance GPUs, particularly in gaming or multimedia laptops, are associated with higher prices.\n",
        "- **OpSys vs Price**: Premium or specialized operating systems may lead to higher laptop prices compared to standard or free operating systems.\n",
        "\n",
        "These observations provide an overview of how various features influence laptop prices."
      ]
    },
    {
      "cell_type": "markdown",
      "metadata": {
        "id": "SxpUUlGaiSfs"
      },
      "source": [
        "## **Data Preprocessing**"
      ]
    },
    {
      "cell_type": "code",
      "execution_count": 3,
      "metadata": {
        "id": "yve2O5Gy6J1m"
      },
      "outputs": [],
      "source": [
        "# Dropping unnecessary columns\n",
        "df.drop(['Unnamed: 0.1', 'Unnamed: 0'], axis=1, inplace=True)\n",
        "\n",
        "# Remove \"GB\" from the 'Ram' column and keep only the numerical part\n",
        "df['Ram'] = df['Ram'].str.extract(r'(\\d+)').astype(float)\n",
        "\n",
        "# Remove \"kg\" from the 'Weight' column and keep only the numerical part\n",
        "df['Weight'] = df['Weight'].str.extract(r'(\\d+\\.?\\d*)').astype(float)\n",
        "\n",
        "# Convert 'Inches' column to the desired numeric type (e.g., float)\n",
        "df['Inches'] = df['Inches'].str.extract(r'(\\d+\\.?\\d*)').astype(float)"
      ]
    },
    {
      "cell_type": "code",
      "execution_count": 4,
      "metadata": {
        "id": "DIpiqYdUiX_O"
      },
      "outputs": [],
      "source": [
        "# Handling missing value (removing it)\n",
        "df = df.dropna()  # As seen earlier those null values won't impact the data at all"
      ]
    },
    {
      "cell_type": "code",
      "execution_count": 5,
      "metadata": {
        "id": "Tk4ckXpU3WP-"
      },
      "outputs": [],
      "source": [
        "# Handling outliers\n",
        "\n",
        "numeric_columns = ['Inches', 'Ram', 'Weight', 'Price']\n",
        "\n",
        "# Function to cap outliers in a column\n",
        "def cap_outliers(column):\n",
        "    Q1 = column.quantile(0.25)\n",
        "    Q3 = column.quantile(0.75)\n",
        "    IQR = Q3 - Q1\n",
        "    lower_bound = Q1 - 1.5 * IQR\n",
        "    upper_bound = Q3 + 1.5 * IQR\n",
        "    column = column.clip(lower=lower_bound, upper=upper_bound)\n",
        "    return column\n",
        "\n",
        "# Apply the function to all numeric columns\n",
        "df[numeric_columns] = df[numeric_columns].apply(cap_outliers)"
      ]
    },
    {
      "cell_type": "code",
      "execution_count": 6,
      "metadata": {
        "colab": {
          "base_uri": "https://localhost:8080/"
        },
        "id": "e0iiYdppjHRK",
        "outputId": "0e669067-5cd4-48e6-a8e3-d3b33fcf4003"
      },
      "outputs": [
        {
          "name": "stdout",
          "output_type": "stream",
          "text": [
            "Company, Unique Count: 19\n",
            "TypeName, Unique Count: 6\n",
            "ScreenResolution, Unique Count: 40\n",
            "Cpu, Unique Count: 118\n",
            "Memory, Unique Count: 40\n",
            "Gpu, Unique Count: 110\n",
            "OpSys, Unique Count: 9\n"
          ]
        }
      ],
      "source": [
        "# Unique record counts of each categorical column\n",
        "for column in df.columns:\n",
        "    if df[column].dtype == 'object':\n",
        "        print(f\"{column}, Unique Count: {df[column].nunique()}\")"
      ]
    },
    {
      "cell_type": "code",
      "execution_count": 7,
      "metadata": {
        "id": "CGzkbIwqgvFF"
      },
      "outputs": [],
      "source": [
        "# There are lots of unique record in each categorical column without any accurate order\n",
        "# So, I'm treating them all as nominal variables\n",
        "from sklearn.preprocessing import LabelEncoder\n",
        "\n",
        "# Standard Encoding for - Company, ScreenResolution, Cpu, Memory, Gpu\n",
        "columns_to_encode = ['Company', 'TypeName', 'ScreenResolution', 'Cpu', 'Memory', 'Gpu', 'OpSys']\n",
        "\n",
        "# Initialize the LabelEncoder\n",
        "label_encoder = LabelEncoder()\n",
        "\n",
        "# Apply label encoding to each column\n",
        "for column in columns_to_encode:\n",
        "    df[column] = label_encoder.fit_transform(df[column])"
      ]
    },
    {
      "cell_type": "code",
      "execution_count": null,
      "metadata": {
        "id": "u5gyueW8cxH8"
      },
      "outputs": [],
      "source": [
        "# # Data Scaling\n",
        "\n",
        "# # Columns to scale (excluding the target variable)\n",
        "# columns_to_scale = [col for col in df.columns if col != 'Price']\n",
        "\n",
        "# # Initialize the StandardScaler\n",
        "# scaler = StandardScaler()\n",
        "\n",
        "# # Fit and transform the scaler on the selected columns\n",
        "# scaled_data = scaler.fit_transform(df[columns_to_scale])\n",
        "\n",
        "# # New DataFrame with the scaled data\n",
        "# scaled_df = pd.DataFrame(scaled_data, columns=columns_to_scale, index=df.index)\n",
        "\n",
        "# # Assign the target variable 'Price' from the original DataFrame to the scaled DataFrame\n",
        "# scaled_df['Price'] = df['Price']"
      ]
    },
    {
      "cell_type": "code",
      "execution_count": null,
      "metadata": {
        "id": "V2P9X8aY0BYo"
      },
      "outputs": [],
      "source": [
        "# Saving Scaled DataFrame\n",
        "# scaled_df.to_csv('scaled_data.csv', index=False)"
      ]
    },
    {
      "cell_type": "markdown",
      "metadata": {
        "id": "2V4UTeV2i793"
      },
      "source": [
        "## **Feature Engineering**"
      ]
    },
    {
      "cell_type": "code",
      "execution_count": 8,
      "metadata": {
        "id": "3euC66CfjoF_"
      },
      "outputs": [],
      "source": [
        "# Separate features and target variable\n",
        "X = df.drop(columns=['Price'])\n",
        "y = df['Price']\n",
        "\n",
        "# Split data into training and testing sets\n",
        "X_train, X_test, y_train, y_test = train_test_split(X, y, test_size=0.2, random_state=17)"
      ]
    },
    {
      "cell_type": "code",
      "execution_count": 11,
      "metadata": {
        "colab": {
          "base_uri": "https://localhost:8080/"
        },
        "id": "3mL0i3xxj_wH",
        "outputId": "7f4f4034-d7b7-4072-a641-b69fadc4df1d"
      },
      "outputs": [
        {
          "name": "stdout",
          "output_type": "stream",
          "text": [
            "Selected Features: Index(['TypeName', 'Inches', 'ScreenResolution', 'Ram', 'OpSys', 'Weight'], dtype='object')\n"
          ]
        }
      ],
      "source": [
        "# Initialize the estimator (e.g., Linear Regression)\n",
        "estimator = LinearRegression()\n",
        "\n",
        "# Initialize RFE\n",
        "rfe = RFE(estimator, n_features_to_select=5, step=1)\n",
        "\n",
        "# Fit RFE\n",
        "rfe.fit(X_train, y_train)\n",
        "\n",
        "# Get selected features\n",
        "selected_features = X.columns[rfe.support_]\n",
        "\n",
        "# Print selected features\n",
        "print(\"Selected Features:\",selected_features)"
      ]
    },
    {
      "cell_type": "code",
      "execution_count": null,
      "metadata": {
        "id": "1PftYWOYuciI"
      },
      "outputs": [],
      "source": [
        "# Transform the training and testing data\n",
        "X_train_rfe = rfe.transform(X_train)\n",
        "X_test_rfe = rfe.transform(X_test)"
      ]
    },
    {
      "cell_type": "markdown",
      "metadata": {
        "id": "pA28f15NuLh9"
      },
      "source": [
        "## **Model Development**"
      ]
    },
    {
      "cell_type": "code",
      "execution_count": null,
      "metadata": {
        "colab": {
          "base_uri": "https://localhost:8080/"
        },
        "id": "lq7BhgytxXBF",
        "outputId": "dbf0f0c9-6fbf-44b3-958a-a8be074340c6"
      },
      "outputs": [
        {
          "name": "stdout",
          "output_type": "stream",
          "text": [
            "Linear Regression RMSE: 21884.563751166344\n",
            "Random Forest RMSE: 13933.623590070072\n",
            "XGBoost RMSE: 13829.265093613165\n"
          ]
        }
      ],
      "source": [
        "# Linear Regression, Random Forest, and XGBoost\n",
        "\n",
        "# Define models\n",
        "models = {\n",
        "    'Linear Regression': LinearRegression(),\n",
        "    'Random Forest': RandomForestRegressor(n_estimators=100, random_state=17),\n",
        "    'XGBoost': XGBRegressor(n_estimators=100, random_state=17)\n",
        "}\n",
        "\n",
        "# I am using X_train and X_test rather than X_train_rfe and X_test_rfe due to optimise rmse value\n",
        "\n",
        "# Iterate through models\n",
        "for name, model in models.items():\n",
        "    # Fit the model\n",
        "    model.fit(X_train, y_train)\n",
        "\n",
        "    # Predicting the Test set results\n",
        "    y_pred = model.predict(X_test)\n",
        "\n",
        "    # Calculate RMSE\n",
        "    rmse = np.sqrt(mean_squared_error(y_test, y_pred))\n",
        "\n",
        "    # Print results\n",
        "    print(f'{name} RMSE: {rmse}')\n"
      ]
    },
    {
      "cell_type": "markdown",
      "metadata": {
        "id": "JAuSiBrizTvV"
      },
      "source": [
        "Based on the Root Mean Squared Error (RMSE) values obtained, It is evident that XGBoost has the lowest RMSE among the three models, indicating that it performs the best in predicting laptop prices based on the given features. Therefore, for this particular task, XGBoost would be the recommended model to use."
      ]
    },
    {
      "cell_type": "markdown",
      "metadata": {
        "id": "io3iJeswzzcS"
      },
      "source": [
        "## **Hyperparameter Tuning**"
      ]
    },
    {
      "cell_type": "code",
      "execution_count": null,
      "metadata": {
        "colab": {
          "base_uri": "https://localhost:8080/"
        },
        "id": "UEt3O3AlzsDa",
        "outputId": "ca40585d-3c5c-49fc-d5a2-d320c7a830aa"
      },
      "outputs": [
        {
          "name": "stdout",
          "output_type": "stream",
          "text": [
            "Best Parameters: {'colsample_bytree': 0.6807826390356928, 'gamma': 0.10449121171978315, 'learning_rate': 0.059603447548551215, 'max_depth': 5, 'min_child_weight': 1, 'n_estimators': 799, 'subsample': 0.6527107828037383}\n",
            "Best RMSE: 12934.911685087653\n"
          ]
        }
      ],
      "source": [
        "# RandomizedSearchCV\n",
        "\n",
        "# Define the parameter distributions\n",
        "param_dist = {\n",
        "    'n_estimators': randint(100, 1000),  # Number of trees in the forest\n",
        "    'learning_rate': uniform(0.05, 0.3),  # Learning rate\n",
        "    'max_depth': randint(3, 10),  # Maximum depth of each tree\n",
        "    'min_child_weight': randint(1, 6),  # Minimum sum of instance weight (hessian) needed in a child\n",
        "    'subsample': uniform(0.6, 0.4),  # Subsample ratio of the training instance\n",
        "    'colsample_bytree': uniform(0.6, 0.4),  # Subsample ratio of columns when constructing each tree\n",
        "    'gamma': uniform(0, 0.5)  # Minimum loss reduction required to make a further partition on a leaf node of the tree\n",
        "}\n",
        "\n",
        "# Initialize XGBoost regressor\n",
        "xgb = XGBRegressor(random_state=17)\n",
        "\n",
        "# Initialize RandomizedSearchCV\n",
        "random_search = RandomizedSearchCV(estimator=xgb, param_distributions=param_dist, n_iter=100,\n",
        "                                   cv=3, scoring='neg_mean_squared_error', random_state=17, n_jobs=-1)\n",
        "\n",
        "# Perform randomized search\n",
        "random_search.fit(X_train, y_train)\n",
        "\n",
        "# Best parameters and best score\n",
        "print(\"Best Parameters:\", random_search.best_params_)\n",
        "print(\"Best RMSE:\", np.sqrt(-random_search.best_score_))\n"
      ]
    },
    {
      "cell_type": "code",
      "execution_count": null,
      "metadata": {
        "id": "JGp7t2WmzaSU"
      },
      "outputs": [],
      "source": [
        "# with X_train\n",
        "# Best Parameters: {'colsample_bytree': 0.6807826390356928, 'gamma': 0.10449121171978315, 'learning_rate': 0.059603447548551215, 'max_depth': 5, 'min_child_weight': 1, 'n_estimators': 799, 'subsample': 0.6527107828037383}\n",
        "# Best RMSE: 12934.911685087653\n",
        "\n",
        "# with X_train_rfe\n",
        "# Best Parameters: {'colsample_bytree': 0.6827879628505138, 'gamma': 0.4296231248952295, 'learning_rate': 0.055724702751160426, 'max_depth': 6, 'min_child_weight': 3, 'n_estimators': 139, 'subsample': 0.819357585383384}\n",
        "# Best RMSE: 16761.401185996983"
      ]
    },
    {
      "cell_type": "code",
      "execution_count": null,
      "metadata": {
        "colab": {
          "base_uri": "https://localhost:8080/"
        },
        "id": "lPqxzPcf3Qe_",
        "outputId": "be5b019a-e065-4d5c-a3c3-e77d7dc48646"
      },
      "outputs": [
        {
          "name": "stdout",
          "output_type": "stream",
          "text": [
            "RMSE on Test Set: 12437.029708164204\n"
          ]
        }
      ],
      "source": [
        "# Implimenting the obtained parameters into select model\n",
        "\n",
        "# Initialize XGBoost regressor with the best parameters\n",
        "best_params = {\n",
        "    'colsample_bytree': 0.6807826390356928,\n",
        "    'gamma': 0.10449121171978315,\n",
        "    'learning_rate': 0.059603447548551215,\n",
        "    'max_depth': 5,\n",
        "    'min_child_weight': 1,\n",
        "    'n_estimators': 799,\n",
        "    'subsample': 0.6527107828037383\n",
        "}\n",
        "\n",
        "xgb = XGBRegressor(**best_params, random_state=17)\n",
        "\n",
        "# Fit the model on the entire X_train dataset\n",
        "xgb.fit(X_train, y_train)\n",
        "\n",
        "# Predict on the test set\n",
        "y_pred = xgb.predict(X_test)\n",
        "\n",
        "# Calculate RMSE\n",
        "rmse = np.sqrt(mean_squared_error(y_test, y_pred))\n",
        "print(\"RMSE on Test Set:\", rmse)"
      ]
    },
    {
      "cell_type": "markdown",
      "metadata": {
        "id": "69gOJZAd4T4g"
      },
      "source": [
        "## **Real-time Predictions**\n"
      ]
    },
    {
      "cell_type": "code",
      "execution_count": null,
      "metadata": {
        "id": "cz6NPB-2pX1c"
      },
      "outputs": [],
      "source": [
        "# Example usage\n",
        "laptop_data = {\n",
        "    \"Company\": [\"Apple\"],\n",
        "    \"TypeName\": [\"Ultrabook\"],\n",
        "    \"Inches\": [15.4],\n",
        "    \"ScreenResolution\": [\"IPS Panel Retina Display 2880x1800\"],\n",
        "    \"Cpu\": [\"Intel Core i7 2.7GHz\"],\n",
        "    \"Ram\": [16],\n",
        "    \"Memory\": [\"512GB SSD\"],\n",
        "    \"Gpu\": [\"AMD Radeon Pro 455\"],\n",
        "    \"OpSys\": [\"macOS\"],\n",
        "    \"Weight\": [1.83]\n",
        "  }\n",
        "\n",
        "# Predicted price: [80332.195]"
      ]
    },
    {
      "cell_type": "code",
      "execution_count": null,
      "metadata": {
        "id": "1EhXK5tqpvcv"
      },
      "outputs": [],
      "source": [
        "new_laptop_data = {\n",
        "    'Company': ['Lenovo'],\n",
        "    'TypeName': ['Ideapad Slim 3'],\n",
        "    'Inches': [13.6],\n",
        "    'ScreenResolution': ['1920 x 1080'],\n",
        "    'Cpu': ['Intel Core i3 4.4GHz'],\n",
        "    'Ram': [8],\n",
        "    'Memory': ['256GB SSD'],\n",
        "    'Gpu': ['Intel UHD Graphics'],\n",
        "    'OpSys': ['Windows 11'],\n",
        "    'Weight': [1.63]\n",
        "}\n",
        "\n",
        "# Predicted price: [38873.797]"
      ]
    },
    {
      "cell_type": "code",
      "execution_count": null,
      "metadata": {
        "colab": {
          "base_uri": "https://localhost:8080/"
        },
        "id": "XFkwCPO9eSpU",
        "outputId": "2dfa1b3f-49e7-42d4-d35f-f4d7345a81f5"
      },
      "outputs": [
        {
          "name": "stdout",
          "output_type": "stream",
          "text": [
            "Predicted price: [80332.195]\n"
          ]
        }
      ],
      "source": [
        "# Dictionary to store LabelEncoder instances for categorical features\n",
        "label_encoders = {}\n",
        "\n",
        "# Function to predict laptop prices using a trained xgb model\n",
        "def predict_price(model, input_data, label_encoders):\n",
        "    # Label Encoding for categorical features\n",
        "    columns_to_encode = ['Company', 'TypeName', 'ScreenResolution', 'Cpu', 'Memory', 'Gpu', 'OpSys']\n",
        "    for column in columns_to_encode:\n",
        "        # Create a new LabelEncoder instance if not present in label_encoders\n",
        "        if column not in label_encoders:\n",
        "            label_encoders[column] = LabelEncoder()\n",
        "            input_data[column] = label_encoders[column].fit_transform(input_data[column])\n",
        "        # Use existing LabelEncoder instance to transform the column\n",
        "        else:\n",
        "            input_data[column] = label_encoders[column].transform(input_data[column])\n",
        "\n",
        "    # Selecting relevant features\n",
        "    selected_features = input_data.columns\n",
        "    input_data = input_data[selected_features]\n",
        "\n",
        "    # Predicting prices using the provided model\n",
        "    predicted_price = xgb.predict(input_data)\n",
        "    return predicted_price\n",
        "\n",
        "# DataFrame from new laptop data\n",
        "new_laptop_df = pd.DataFrame.from_dict(laptop_data)\n",
        "\n",
        "# Calling function predict_price\n",
        "predicted_price = predict_price(xgb, new_laptop_df, label_encoders)\n",
        "\n",
        "# Printing predicted price\n",
        "print(\"Predicted price:\", predicted_price)"
      ]
    },
    {
      "cell_type": "markdown",
      "metadata": {
        "id": "9qgpjOdiZRRg"
      },
      "source": [
        "## **Insights**"
      ]
    },
    {
      "cell_type": "markdown",
      "metadata": {},
      "source": [
        "'TypeName', 'Inches', 'ScreenResolution', 'Ram', and 'OpSys' are top five features play a pivotal role in pricing decisions.\n"
      ]
    },
    {
      "cell_type": "markdown",
      "metadata": {
        "id": "W5_6SIVleyd3"
      },
      "source": [
        "## **Questions to Explore**\n",
        "\n"
      ]
    },
    {
      "cell_type": "markdown",
      "metadata": {
        "id": "rYSp8SdGfK8R"
      },
      "source": [
        "`Q1.` Which features have the most significant impact on laptop prices?\n",
        "\n",
        "`Ans:` Ram has the most significant impact on laptop prices."
      ]
    },
    {
      "cell_type": "markdown",
      "metadata": {
        "id": "HFHEk7aTfRIg"
      },
      "source": [
        "`Q2.` Can the model accurately predict the prices of laptops from lesser-known brands?\n",
        "\n",
        "`Ans:` Yes because brand has not much impact."
      ]
    },
    {
      "cell_type": "markdown",
      "metadata": {
        "id": "H68541kigC7W"
      },
      "source": [
        "`Q3.` Does the brand of the laptop significantly influence its price?\n",
        "\n",
        "`Ans:` No brand has not much impact."
      ]
    },
    {
      "cell_type": "markdown",
      "metadata": {
        "id": "TzhTcCaLgBq0"
      },
      "source": [
        "`Q4.` How well does the model perform on laptops with high-end specifications compared to budget laptops?\n",
        "\n",
        "`Ans:` Performing good, although there is need of finetuning the model for better performence."
      ]
    },
    {
      "cell_type": "markdown",
      "metadata": {
        "id": "st5YwmWrgeCO"
      },
      "source": [
        "`Q5.` What are the limitations and challenges in predicting laptop prices accurately?\n",
        "\n",
        "`Ans:` Laptops having diverse cpu, gpu and special specifications are limitations and challenges in predicting laptop prices accurately."
      ]
    },
    {
      "cell_type": "markdown",
      "metadata": {
        "id": "d8jlf1MFfHDl"
      },
      "source": [
        "`Q6.` How does the model perform when predicting the prices of newly released laptops not present in the training dataset?\n",
        "\n",
        "`Ans:` It is performing good, as I have checked with few new model from amzon. There is need of finetuning the model for better performence."
      ]
    }
  ],
  "metadata": {
    "colab": {
      "collapsed_sections": [
        "5OxTmN_LKcnQ",
        "SxpUUlGaiSfs",
        "2V4UTeV2i793",
        "pA28f15NuLh9",
        "io3iJeswzzcS",
        "69gOJZAd4T4g",
        "W5_6SIVleyd3"
      ],
      "provenance": [],
      "toc_visible": true
    },
    "kernelspec": {
      "display_name": "Python 3",
      "name": "python3"
    },
    "language_info": {
      "name": "python"
    }
  },
  "nbformat": 4,
  "nbformat_minor": 0
}
